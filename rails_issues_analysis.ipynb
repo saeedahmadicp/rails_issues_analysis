{
 "cells": [
  {
   "cell_type": "markdown",
   "metadata": {},
   "source": [
    "# Rails Issues Analysis"
   ]
  },
  {
   "cell_type": "markdown",
   "metadata": {},
   "source": [
    "### 1. Importing Libraries"
   ]
  },
  {
   "cell_type": "code",
   "execution_count": 96,
   "metadata": {},
   "outputs": [],
   "source": [
    "from json import loads\n",
    "import requests\n",
    "import pandas as pd\n",
    "import matplotlib.pyplot as plt"
   ]
  },
  {
   "cell_type": "markdown",
   "metadata": {},
   "source": [
    "### 2. Data Scraping"
   ]
  },
  {
   "cell_type": "code",
   "execution_count": 3,
   "metadata": {},
   "outputs": [],
   "source": [
    "## Load the environment variables from the env.json file\n",
    "file_path = \"env.json\"\n",
    "with open(file_path, \"r\") as file:\n",
    "    data = file.read()\n",
    "    if data:\n",
    "        data = loads(data)\n"
   ]
  },
  {
   "cell_type": "code",
   "execution_count": 9,
   "metadata": {},
   "outputs": [],
   "source": [
    "## Get all issues from a GitHub repository\n",
    "GITHUB_USER = data['username'] # github username\n",
    "GITHUB_PASSWORD = data['password'] # github password\n",
    "AUTH = (GITHUB_USER, GITHUB_PASSWORD) # basic auth\n",
    "\n",
    "def get_all_issues(repo_owner, repo_name):\n",
    "    url = f\"https://api.github.com/repos/{repo_owner}/{repo_name}/issues\"\n",
    "    issues = []\n",
    "    page = 1\n",
    "\n",
    "    while True:\n",
    "        response = requests.get(url, params={\"page\": page}, auth=AUTH)\n",
    "        if response.status_code == 200:\n",
    "            page_issues = response.json()\n",
    "            if len(page_issues) == 0:\n",
    "                break\n",
    "            issues.extend(page_issues)\n",
    "            page += 1\n",
    "        else:\n",
    "            print(f'Error message: {response.json()[\"message\"]}')\n",
    "            print(f\"Error: {response.status_code}\")\n",
    "            break\n",
    "\n",
    "    return issues\n",
    "\n",
    "# Example usage\n",
    "repo_owner = \"rails\"\n",
    "repo_name = \"rails\"\n",
    "issues = get_all_issues(repo_owner, repo_name)"
   ]
  },
  {
   "cell_type": "markdown",
   "metadata": {},
   "source": [
    "### 3. Data Cleaning and Preprocessing"
   ]
  },
  {
   "cell_type": "code",
   "execution_count": 10,
   "metadata": {},
   "outputs": [],
   "source": [
    "### fitlering out the last 500 issues\n",
    "issues = issues[0:500] # the issues are sorted by the date they were created, so we can just take the first 500"
   ]
  },
  {
   "cell_type": "code",
   "execution_count": 12,
   "metadata": {},
   "outputs": [
    {
     "name": "stdout",
     "output_type": "stream",
     "text": [
      "dict_keys(['url', 'repository_url', 'labels_url', 'comments_url', 'events_url', 'html_url', 'id', 'node_id', 'number', 'title', 'user', 'labels', 'state', 'locked', 'assignee', 'assignees', 'milestone', 'comments', 'created_at', 'updated_at', 'closed_at', 'author_association', 'active_lock_reason', 'draft', 'pull_request', 'body', 'reactions', 'timeline_url', 'performed_via_github_app', 'state_reason'])\n"
     ]
    }
   ],
   "source": [
    "## issues keys\n",
    "print(issues[0].keys())"
   ]
  },
  {
   "cell_type": "code",
   "execution_count": 78,
   "metadata": {},
   "outputs": [],
   "source": [
    "## filtering the data for each issue (selected keys)\n",
    "selected_keys = [\"url\", \"id\", \"number\", \"title\", \"user\", \"labels\", \"state\", \"comments\", \"created_at\", \"updated_at\", \"closed_at\", \"body\", \"reactions\"]\n",
    "\n",
    "## filtering the data (using list comprehension)\n",
    "filtered_issues = [{key: issue[key] for key in selected_keys} for issue in issues]"
   ]
  },
  {
   "cell_type": "code",
   "execution_count": 79,
   "metadata": {},
   "outputs": [],
   "source": [
    "## filtering subkeys for the user, labels and reactions\n",
    "selected_subkeys_user = ['login', 'id', 'type']\n",
    "selected_subkeys_labels = ['name']\n",
    "selected_subkeys_reactions = ['total_count']\n",
    "\n",
    "# Create new keys for selected_subkeys_user\n",
    "for index, issue in enumerate(filtered_issues):\n",
    "    ## filtering the user subkeys\n",
    "    for key in selected_subkeys_user:\n",
    "        filtered_issues[index][key] = issue['user'][key]\n",
    "   \n",
    "    ## filtering the labels subkeys\n",
    "    for key in selected_subkeys_labels:\n",
    "        if len(issue['labels']) == 0:\n",
    "            filtered_issues[index][key] = None\n",
    "        else:\n",
    "            names = []\n",
    "            for label in issue['labels']:\n",
    "                names.append(label[key])\n",
    "            filtered_issues[index][key] = names\n",
    "    \n",
    "    ## filtering the reactions subkeys\n",
    "    for key in selected_subkeys_reactions:\n",
    "        filtered_issues[index][key] = issue['reactions'][key]\n",
    "    \n",
    "\n",
    "\n",
    "## removing the user, labels and reactions keys\n",
    "for issue in filtered_issues:\n",
    "    del issue['user']\n",
    "    del issue['labels']\n",
    "    del issue['reactions']\n",
    "\n",
    "\n"
   ]
  },
  {
   "cell_type": "code",
   "execution_count": 80,
   "metadata": {},
   "outputs": [
    {
     "data": {
      "text/plain": [
       "{'url': 'https://api.github.com/repos/rails/rails/issues/50953',\n",
       " 'id': 1773614,\n",
       " 'number': 50953,\n",
       " 'title': 'Add webp as a default to active_storage.web_image_content_types',\n",
       " 'state': 'open',\n",
       " 'comments': 1,\n",
       " 'created_at': '2024-02-02T12:51:26Z',\n",
       " 'updated_at': '2024-02-02T17:19:56Z',\n",
       " 'closed_at': None,\n",
       " 'body': '### Motivation / Background\\r\\n\\r\\nCustomers are uploading webp images to our app, and expect them to be rendered just like other images, instead of being converted to the fallback PNG format.\\r\\n\\r\\n### Detail\\r\\n\\r\\nFollows https://github.com/rails/rails/pull/38918 and https://github.com/rails/rails/pull/38988. At the time, webp browser support was limited. Now 96% of browsers support webp: https://caniuse.com/?search=webp\\r\\n\\r\\nThis PR adds webp as a default image type.\\r\\n\\r\\n### Additional information\\r\\n\\r\\nI think this is a sensible default in 2024, but alternatively each Rails app may choose:\\r\\n\\r\\n```\\r\\nRails.application.configure do\\r\\n  config.active_storage.web_image_content_types << \"image/webp\"\\r\\nend\\r\\n```\\r\\n\\r\\n**Changelog**\\r\\n\\r\\nI\\'ve not added a changelog entry in line with https://github.com/rails/rails/pull/38918#discussion_r410527726, but I\\'d be happy to add one if it\\'s felt useful now.\\r\\n\\r\\n### Checklist\\r\\n\\r\\nBefore submitting the PR make sure the following are checked:\\r\\n\\r\\n* [x] This Pull Request is related to one change. Changes that are unrelated should be opened in separate PRs.\\r\\n* [x] Commit message has a detailed description of what changed and why. If this PR fixes a related issue include it in the commit message. Ex: `[Fix #issue-number]`\\r\\n* [x] Tests are added or updated if you fix a bug or add a feature.\\r\\n* [x] CHANGELOG files are updated for the changed libraries if there is a behavior change or additional feature. Minor bug fixes and documentation changes should not be included.\\r\\n\\r\\ncc @jeremy \\r\\n',\n",
       " 'login': 'lewispb',\n",
       " 'type': 'User',\n",
       " 'name': ['railties', 'docs', 'activestorage'],\n",
       " 'total_count': 0}"
      ]
     },
     "execution_count": 80,
     "metadata": {},
     "output_type": "execute_result"
    }
   ],
   "source": [
    "filtered_issues[2]"
   ]
  },
  {
   "cell_type": "code",
   "execution_count": 81,
   "metadata": {},
   "outputs": [],
   "source": [
    "## create a DataFrame to store the filtered issues\n",
    "df = pd.DataFrame(filtered_issues, columns=filtered_issues[0].keys())\n"
   ]
  },
  {
   "cell_type": "code",
   "execution_count": 82,
   "metadata": {},
   "outputs": [
    {
     "data": {
      "text/html": [
       "<div>\n",
       "<style scoped>\n",
       "    .dataframe tbody tr th:only-of-type {\n",
       "        vertical-align: middle;\n",
       "    }\n",
       "\n",
       "    .dataframe tbody tr th {\n",
       "        vertical-align: top;\n",
       "    }\n",
       "\n",
       "    .dataframe thead th {\n",
       "        text-align: right;\n",
       "    }\n",
       "</style>\n",
       "<table border=\"1\" class=\"dataframe\">\n",
       "  <thead>\n",
       "    <tr style=\"text-align: right;\">\n",
       "      <th></th>\n",
       "      <th>url</th>\n",
       "      <th>id</th>\n",
       "      <th>number</th>\n",
       "      <th>title</th>\n",
       "      <th>state</th>\n",
       "      <th>comments</th>\n",
       "      <th>created_at</th>\n",
       "      <th>updated_at</th>\n",
       "      <th>closed_at</th>\n",
       "      <th>body</th>\n",
       "      <th>login</th>\n",
       "      <th>type</th>\n",
       "      <th>name</th>\n",
       "      <th>total_count</th>\n",
       "    </tr>\n",
       "  </thead>\n",
       "  <tbody>\n",
       "    <tr>\n",
       "      <th>0</th>\n",
       "      <td>https://api.github.com/repos/rails/rails/issue...</td>\n",
       "      <td>9632282</td>\n",
       "      <td>50958</td>\n",
       "      <td>Add missing alias to errors array</td>\n",
       "      <td>open</td>\n",
       "      <td>0</td>\n",
       "      <td>2024-02-03T01:01:09Z</td>\n",
       "      <td>2024-02-03T01:01:13Z</td>\n",
       "      <td>None</td>\n",
       "      <td>it used to be that the &lt;&lt; operator was able to...</td>\n",
       "      <td>laomatt</td>\n",
       "      <td>User</td>\n",
       "      <td>[activemodel]</td>\n",
       "      <td>0</td>\n",
       "    </tr>\n",
       "    <tr>\n",
       "      <th>1</th>\n",
       "      <td>https://api.github.com/repos/rails/rails/issue...</td>\n",
       "      <td>58818799</td>\n",
       "      <td>50954</td>\n",
       "      <td>esbuild precompilation error in rails 7.1.3</td>\n",
       "      <td>open</td>\n",
       "      <td>0</td>\n",
       "      <td>2024-02-02T14:43:34Z</td>\n",
       "      <td>2024-02-02T14:43:34Z</td>\n",
       "      <td>None</td>\n",
       "      <td>### Steps to reproduce\\r\\ncreate a new rails 7...</td>\n",
       "      <td>PhilippGsell</td>\n",
       "      <td>User</td>\n",
       "      <td>None</td>\n",
       "      <td>0</td>\n",
       "    </tr>\n",
       "    <tr>\n",
       "      <th>2</th>\n",
       "      <td>https://api.github.com/repos/rails/rails/issue...</td>\n",
       "      <td>1773614</td>\n",
       "      <td>50953</td>\n",
       "      <td>Add webp as a default to active_storage.web_im...</td>\n",
       "      <td>open</td>\n",
       "      <td>1</td>\n",
       "      <td>2024-02-02T12:51:26Z</td>\n",
       "      <td>2024-02-02T17:19:56Z</td>\n",
       "      <td>None</td>\n",
       "      <td>### Motivation / Background\\r\\n\\r\\nCustomers a...</td>\n",
       "      <td>lewispb</td>\n",
       "      <td>User</td>\n",
       "      <td>[railties, docs, activestorage]</td>\n",
       "      <td>0</td>\n",
       "    </tr>\n",
       "    <tr>\n",
       "      <th>3</th>\n",
       "      <td>https://api.github.com/repos/rails/rails/issue...</td>\n",
       "      <td>4509402</td>\n",
       "      <td>50951</td>\n",
       "      <td>set default_enforce_utf8 to false</td>\n",
       "      <td>open</td>\n",
       "      <td>1</td>\n",
       "      <td>2024-02-02T11:11:21Z</td>\n",
       "      <td>2024-02-03T08:41:29Z</td>\n",
       "      <td>None</td>\n",
       "      <td>`enforce_utf8` is false by deault in `form_for...</td>\n",
       "      <td>ironsand</td>\n",
       "      <td>User</td>\n",
       "      <td>[actionview]</td>\n",
       "      <td>0</td>\n",
       "    </tr>\n",
       "    <tr>\n",
       "      <th>4</th>\n",
       "      <td>https://api.github.com/repos/rails/rails/issue...</td>\n",
       "      <td>54796266</td>\n",
       "      <td>50950</td>\n",
       "      <td>Add class name to enum validation exception me...</td>\n",
       "      <td>open</td>\n",
       "      <td>0</td>\n",
       "      <td>2024-02-02T11:07:18Z</td>\n",
       "      <td>2024-02-02T11:08:08Z</td>\n",
       "      <td>None</td>\n",
       "      <td>### Motivation / Background\\r\\n\\r\\nIn general ...</td>\n",
       "      <td>amkisko</td>\n",
       "      <td>User</td>\n",
       "      <td>[activerecord]</td>\n",
       "      <td>0</td>\n",
       "    </tr>\n",
       "  </tbody>\n",
       "</table>\n",
       "</div>"
      ],
      "text/plain": [
       "                                                 url        id  number  \\\n",
       "0  https://api.github.com/repos/rails/rails/issue...   9632282   50958   \n",
       "1  https://api.github.com/repos/rails/rails/issue...  58818799   50954   \n",
       "2  https://api.github.com/repos/rails/rails/issue...   1773614   50953   \n",
       "3  https://api.github.com/repos/rails/rails/issue...   4509402   50951   \n",
       "4  https://api.github.com/repos/rails/rails/issue...  54796266   50950   \n",
       "\n",
       "                                               title state  comments  \\\n",
       "0                  Add missing alias to errors array  open         0   \n",
       "1        esbuild precompilation error in rails 7.1.3  open         0   \n",
       "2  Add webp as a default to active_storage.web_im...  open         1   \n",
       "3                  set default_enforce_utf8 to false  open         1   \n",
       "4  Add class name to enum validation exception me...  open         0   \n",
       "\n",
       "             created_at            updated_at closed_at  \\\n",
       "0  2024-02-03T01:01:09Z  2024-02-03T01:01:13Z      None   \n",
       "1  2024-02-02T14:43:34Z  2024-02-02T14:43:34Z      None   \n",
       "2  2024-02-02T12:51:26Z  2024-02-02T17:19:56Z      None   \n",
       "3  2024-02-02T11:11:21Z  2024-02-03T08:41:29Z      None   \n",
       "4  2024-02-02T11:07:18Z  2024-02-02T11:08:08Z      None   \n",
       "\n",
       "                                                body         login  type  \\\n",
       "0  it used to be that the << operator was able to...       laomatt  User   \n",
       "1  ### Steps to reproduce\\r\\ncreate a new rails 7...  PhilippGsell  User   \n",
       "2  ### Motivation / Background\\r\\n\\r\\nCustomers a...       lewispb  User   \n",
       "3  `enforce_utf8` is false by deault in `form_for...      ironsand  User   \n",
       "4  ### Motivation / Background\\r\\n\\r\\nIn general ...       amkisko  User   \n",
       "\n",
       "                              name  total_count  \n",
       "0                    [activemodel]            0  \n",
       "1                             None            0  \n",
       "2  [railties, docs, activestorage]            0  \n",
       "3                     [actionview]            0  \n",
       "4                   [activerecord]            0  "
      ]
     },
     "execution_count": 82,
     "metadata": {},
     "output_type": "execute_result"
    }
   ],
   "source": [
    "df.head() # print the first 5 rows of the DataFrame"
   ]
  },
  {
   "cell_type": "code",
   "execution_count": 83,
   "metadata": {},
   "outputs": [],
   "source": [
    "## rename the column name (name to label)\n",
    "df.rename(columns={'name': 'label'}, inplace=True)"
   ]
  },
  {
   "cell_type": "code",
   "execution_count": 84,
   "metadata": {},
   "outputs": [],
   "source": [
    "## convert the label to multiple columns\n",
    "\n",
    "# Split the labels into individual values\n",
    "df['label'] = df['label'].str.join(',')\n",
    "\n",
    "# Create new columns for each label value\n",
    "df = df.join(df['label'].str.split(',', expand=True).add_prefix('label_'))\n",
    "\n",
    "# Drop the original label column\n",
    "df.drop('label', axis=1, inplace=True)\n"
   ]
  },
  {
   "cell_type": "code",
   "execution_count": 85,
   "metadata": {},
   "outputs": [
    {
     "data": {
      "text/html": [
       "<div>\n",
       "<style scoped>\n",
       "    .dataframe tbody tr th:only-of-type {\n",
       "        vertical-align: middle;\n",
       "    }\n",
       "\n",
       "    .dataframe tbody tr th {\n",
       "        vertical-align: top;\n",
       "    }\n",
       "\n",
       "    .dataframe thead th {\n",
       "        text-align: right;\n",
       "    }\n",
       "</style>\n",
       "<table border=\"1\" class=\"dataframe\">\n",
       "  <thead>\n",
       "    <tr style=\"text-align: right;\">\n",
       "      <th></th>\n",
       "      <th>url</th>\n",
       "      <th>id</th>\n",
       "      <th>number</th>\n",
       "      <th>title</th>\n",
       "      <th>state</th>\n",
       "      <th>comments</th>\n",
       "      <th>created_at</th>\n",
       "      <th>updated_at</th>\n",
       "      <th>closed_at</th>\n",
       "      <th>body</th>\n",
       "      <th>...</th>\n",
       "      <th>total_count</th>\n",
       "      <th>label_0</th>\n",
       "      <th>label_1</th>\n",
       "      <th>label_2</th>\n",
       "      <th>label_3</th>\n",
       "      <th>label_4</th>\n",
       "      <th>label_5</th>\n",
       "      <th>label_6</th>\n",
       "      <th>label_7</th>\n",
       "      <th>label_8</th>\n",
       "    </tr>\n",
       "  </thead>\n",
       "  <tbody>\n",
       "    <tr>\n",
       "      <th>0</th>\n",
       "      <td>https://api.github.com/repos/rails/rails/issue...</td>\n",
       "      <td>9632282</td>\n",
       "      <td>50958</td>\n",
       "      <td>Add missing alias to errors array</td>\n",
       "      <td>open</td>\n",
       "      <td>0</td>\n",
       "      <td>2024-02-03T01:01:09Z</td>\n",
       "      <td>2024-02-03T01:01:13Z</td>\n",
       "      <td>None</td>\n",
       "      <td>it used to be that the &lt;&lt; operator was able to...</td>\n",
       "      <td>...</td>\n",
       "      <td>0</td>\n",
       "      <td>activemodel</td>\n",
       "      <td>None</td>\n",
       "      <td>None</td>\n",
       "      <td>None</td>\n",
       "      <td>None</td>\n",
       "      <td>None</td>\n",
       "      <td>None</td>\n",
       "      <td>None</td>\n",
       "      <td>None</td>\n",
       "    </tr>\n",
       "    <tr>\n",
       "      <th>1</th>\n",
       "      <td>https://api.github.com/repos/rails/rails/issue...</td>\n",
       "      <td>58818799</td>\n",
       "      <td>50954</td>\n",
       "      <td>esbuild precompilation error in rails 7.1.3</td>\n",
       "      <td>open</td>\n",
       "      <td>0</td>\n",
       "      <td>2024-02-02T14:43:34Z</td>\n",
       "      <td>2024-02-02T14:43:34Z</td>\n",
       "      <td>None</td>\n",
       "      <td>### Steps to reproduce\\r\\ncreate a new rails 7...</td>\n",
       "      <td>...</td>\n",
       "      <td>0</td>\n",
       "      <td>None</td>\n",
       "      <td>None</td>\n",
       "      <td>None</td>\n",
       "      <td>None</td>\n",
       "      <td>None</td>\n",
       "      <td>None</td>\n",
       "      <td>None</td>\n",
       "      <td>None</td>\n",
       "      <td>None</td>\n",
       "    </tr>\n",
       "    <tr>\n",
       "      <th>2</th>\n",
       "      <td>https://api.github.com/repos/rails/rails/issue...</td>\n",
       "      <td>1773614</td>\n",
       "      <td>50953</td>\n",
       "      <td>Add webp as a default to active_storage.web_im...</td>\n",
       "      <td>open</td>\n",
       "      <td>1</td>\n",
       "      <td>2024-02-02T12:51:26Z</td>\n",
       "      <td>2024-02-02T17:19:56Z</td>\n",
       "      <td>None</td>\n",
       "      <td>### Motivation / Background\\r\\n\\r\\nCustomers a...</td>\n",
       "      <td>...</td>\n",
       "      <td>0</td>\n",
       "      <td>railties</td>\n",
       "      <td>docs</td>\n",
       "      <td>activestorage</td>\n",
       "      <td>None</td>\n",
       "      <td>None</td>\n",
       "      <td>None</td>\n",
       "      <td>None</td>\n",
       "      <td>None</td>\n",
       "      <td>None</td>\n",
       "    </tr>\n",
       "    <tr>\n",
       "      <th>3</th>\n",
       "      <td>https://api.github.com/repos/rails/rails/issue...</td>\n",
       "      <td>4509402</td>\n",
       "      <td>50951</td>\n",
       "      <td>set default_enforce_utf8 to false</td>\n",
       "      <td>open</td>\n",
       "      <td>1</td>\n",
       "      <td>2024-02-02T11:11:21Z</td>\n",
       "      <td>2024-02-03T08:41:29Z</td>\n",
       "      <td>None</td>\n",
       "      <td>`enforce_utf8` is false by deault in `form_for...</td>\n",
       "      <td>...</td>\n",
       "      <td>0</td>\n",
       "      <td>actionview</td>\n",
       "      <td>None</td>\n",
       "      <td>None</td>\n",
       "      <td>None</td>\n",
       "      <td>None</td>\n",
       "      <td>None</td>\n",
       "      <td>None</td>\n",
       "      <td>None</td>\n",
       "      <td>None</td>\n",
       "    </tr>\n",
       "    <tr>\n",
       "      <th>4</th>\n",
       "      <td>https://api.github.com/repos/rails/rails/issue...</td>\n",
       "      <td>54796266</td>\n",
       "      <td>50950</td>\n",
       "      <td>Add class name to enum validation exception me...</td>\n",
       "      <td>open</td>\n",
       "      <td>0</td>\n",
       "      <td>2024-02-02T11:07:18Z</td>\n",
       "      <td>2024-02-02T11:08:08Z</td>\n",
       "      <td>None</td>\n",
       "      <td>### Motivation / Background\\r\\n\\r\\nIn general ...</td>\n",
       "      <td>...</td>\n",
       "      <td>0</td>\n",
       "      <td>activerecord</td>\n",
       "      <td>None</td>\n",
       "      <td>None</td>\n",
       "      <td>None</td>\n",
       "      <td>None</td>\n",
       "      <td>None</td>\n",
       "      <td>None</td>\n",
       "      <td>None</td>\n",
       "      <td>None</td>\n",
       "    </tr>\n",
       "  </tbody>\n",
       "</table>\n",
       "<p>5 rows × 22 columns</p>\n",
       "</div>"
      ],
      "text/plain": [
       "                                                 url        id  number  \\\n",
       "0  https://api.github.com/repos/rails/rails/issue...   9632282   50958   \n",
       "1  https://api.github.com/repos/rails/rails/issue...  58818799   50954   \n",
       "2  https://api.github.com/repos/rails/rails/issue...   1773614   50953   \n",
       "3  https://api.github.com/repos/rails/rails/issue...   4509402   50951   \n",
       "4  https://api.github.com/repos/rails/rails/issue...  54796266   50950   \n",
       "\n",
       "                                               title state  comments  \\\n",
       "0                  Add missing alias to errors array  open         0   \n",
       "1        esbuild precompilation error in rails 7.1.3  open         0   \n",
       "2  Add webp as a default to active_storage.web_im...  open         1   \n",
       "3                  set default_enforce_utf8 to false  open         1   \n",
       "4  Add class name to enum validation exception me...  open         0   \n",
       "\n",
       "             created_at            updated_at closed_at  \\\n",
       "0  2024-02-03T01:01:09Z  2024-02-03T01:01:13Z      None   \n",
       "1  2024-02-02T14:43:34Z  2024-02-02T14:43:34Z      None   \n",
       "2  2024-02-02T12:51:26Z  2024-02-02T17:19:56Z      None   \n",
       "3  2024-02-02T11:11:21Z  2024-02-03T08:41:29Z      None   \n",
       "4  2024-02-02T11:07:18Z  2024-02-02T11:08:08Z      None   \n",
       "\n",
       "                                                body  ... total_count  \\\n",
       "0  it used to be that the << operator was able to...  ...           0   \n",
       "1  ### Steps to reproduce\\r\\ncreate a new rails 7...  ...           0   \n",
       "2  ### Motivation / Background\\r\\n\\r\\nCustomers a...  ...           0   \n",
       "3  `enforce_utf8` is false by deault in `form_for...  ...           0   \n",
       "4  ### Motivation / Background\\r\\n\\r\\nIn general ...  ...           0   \n",
       "\n",
       "        label_0  label_1        label_2 label_3 label_4 label_5 label_6  \\\n",
       "0   activemodel     None           None    None    None    None    None   \n",
       "1          None     None           None    None    None    None    None   \n",
       "2      railties     docs  activestorage    None    None    None    None   \n",
       "3    actionview     None           None    None    None    None    None   \n",
       "4  activerecord     None           None    None    None    None    None   \n",
       "\n",
       "  label_7 label_8  \n",
       "0    None    None  \n",
       "1    None    None  \n",
       "2    None    None  \n",
       "3    None    None  \n",
       "4    None    None  \n",
       "\n",
       "[5 rows x 22 columns]"
      ]
     },
     "execution_count": 85,
     "metadata": {},
     "output_type": "execute_result"
    }
   ],
   "source": [
    "df.head() # print the first 5 rows of the DataFrame"
   ]
  },
  {
   "cell_type": "code",
   "execution_count": 86,
   "metadata": {},
   "outputs": [
    {
     "name": "stdout",
     "output_type": "stream",
     "text": [
      "url            object\n",
      "id              int64\n",
      "number          int64\n",
      "title          object\n",
      "state          object\n",
      "comments        int64\n",
      "created_at     object\n",
      "updated_at     object\n",
      "closed_at      object\n",
      "body           object\n",
      "login          object\n",
      "type           object\n",
      "total_count     int64\n",
      "label_0        object\n",
      "label_1        object\n",
      "label_2        object\n",
      "label_3        object\n",
      "label_4        object\n",
      "label_5        object\n",
      "label_6        object\n",
      "label_7        object\n",
      "label_8        object\n",
      "dtype: object\n"
     ]
    }
   ],
   "source": [
    "## data types\n",
    "print(df.dtypes)"
   ]
  },
  {
   "cell_type": "code",
   "execution_count": 87,
   "metadata": {},
   "outputs": [],
   "source": [
    "## change the data type of the created_at, updated_at and closed_at columns to datetime\n",
    "df['created_at'] = pd.to_datetime(df['created_at'])\n",
    "df['updated_at'] = pd.to_datetime(df['updated_at'])\n",
    "df['closed_at'] = pd.to_datetime(df['closed_at'])\n"
   ]
  },
  {
   "cell_type": "code",
   "execution_count": 88,
   "metadata": {},
   "outputs": [
    {
     "name": "stdout",
     "output_type": "stream",
     "text": [
      "url                         object\n",
      "id                           int64\n",
      "number                       int64\n",
      "title                       object\n",
      "state                       object\n",
      "comments                     int64\n",
      "created_at     datetime64[ns, UTC]\n",
      "updated_at     datetime64[ns, UTC]\n",
      "closed_at           datetime64[ns]\n",
      "body                        object\n",
      "login                       object\n",
      "type                        object\n",
      "total_count                  int64\n",
      "label_0                     object\n",
      "label_1                     object\n",
      "label_2                     object\n",
      "label_3                     object\n",
      "label_4                     object\n",
      "label_5                     object\n",
      "label_6                     object\n",
      "label_7                     object\n",
      "label_8                     object\n",
      "dtype: object\n"
     ]
    }
   ],
   "source": [
    "## data types\n",
    "print(df.dtypes)"
   ]
  },
  {
   "cell_type": "code",
   "execution_count": 89,
   "metadata": {},
   "outputs": [],
   "source": [
    "### save the DataFrame to a csv file\n",
    "file_path = \"github-issues.csv\"\n",
    "df.to_csv(file_path, index=False)"
   ]
  },
  {
   "cell_type": "markdown",
   "metadata": {},
   "source": [
    "### 4. Data Analysis, statistics and visualization"
   ]
  },
  {
   "cell_type": "code",
   "execution_count": 100,
   "metadata": {},
   "outputs": [],
   "source": [
    "## load the DataFrame from the csv file\n",
    "file_path = \"github-issues.csv\"\n",
    "df = pd.read_csv(file_path)"
   ]
  },
  {
   "cell_type": "markdown",
   "metadata": {},
   "source": [
    "#### 4.1. How do the number of issues evolve over time?"
   ]
  },
  {
   "cell_type": "code",
   "execution_count": 101,
   "metadata": {},
   "outputs": [],
   "source": [
    "\n",
    "df['created_at'] = pd.to_datetime(df['created_at']) # convert 'created_at' column to datetime if it's not already\n",
    "\n",
    "# Set 'created_at' column as the index\n",
    "df.set_index('created_at', inplace=True)\n",
    "\n"
   ]
  },
  {
   "cell_type": "code",
   "execution_count": 103,
   "metadata": {},
   "outputs": [
    {
     "data": {
      "image/png": "[encoded data removed]",
      "text/plain": [
       "<Figure size 1000x600 with 1 Axes>"
      ]
     },
     "metadata": {},
     "output_type": "display_data"
    }
   ],
   "source": [
    "# Plot the number of issues created during each week\n",
    "\n",
    "# Resample the dataframe to weekly bins and count the number of issues created in each week\n",
    "weekly_issues = df.resample('W').size()\n",
    "\n",
    "plt.figure(figsize=(10, 6))  # Adjust the figure size\n",
    "plt.plot(weekly_issues)\n",
    "plt.xlabel('Week')\n",
    "plt.ylabel('Number of Issues')\n",
    "plt.title('Number of Issues Over Time')\n",
    "plt.grid(True)  # Add grid lines\n",
    "plt.show()\n"
   ]
  },
  {
   "cell_type": "code",
   "execution_count": null,
   "metadata": {},
   "outputs": [],
   "source": []
  },
  {
   "cell_type": "code",
   "execution_count": null,
   "metadata": {},
   "outputs": [],
   "source": []
  },
  {
   "cell_type": "markdown",
   "metadata": {},
   "source": [
    "### 5. Predictive Analysis and Model Building"
   ]
  },
  {
   "cell_type": "code",
   "execution_count": null,
   "metadata": {},
   "outputs": [],
   "source": []
  },
  {
   "cell_type": "code",
   "execution_count": null,
   "metadata": {},
   "outputs": [],
   "source": []
  },
  {
   "cell_type": "markdown",
   "metadata": {},
   "source": [
    "### 6. Conclusion"
   ]
  },
  {
   "cell_type": "code",
   "execution_count": null,
   "metadata": {},
   "outputs": [],
   "source": []
  },
  {
   "cell_type": "code",
   "execution_count": null,
   "metadata": {},
   "outputs": [],
   "source": []
  }
 ],
 "metadata": {
  "kernelspec": {
   "display_name": "issues_analysis",
   "language": "python",
   "name": "python3"
  },
  "language_info": {
   "codemirror_mode": {
    "name": "ipython",
    "version": 3
   },
   "file_extension": ".py",
   "mimetype": "text/x-python",
   "name": "python",
   "nbconvert_exporter": "python",
   "pygments_lexer": "ipython3",
   "version": "3.12.1"
  }
 },
 "nbformat": 4,
 "nbformat_minor": 2
}
